{
 "cells": [
  {
   "cell_type": "markdown",
   "metadata": {},
   "source": [
    "# Building the Chicago Model Pipeline"
   ]
  },
  {
   "cell_type": "code",
   "execution_count": 1,
   "metadata": {},
   "outputs": [],
   "source": [
    "import pandas as pd\n",
    "import numpy as np\n",
    "from sklearn.preprocessing import OneHotEncoder # to make dummy features\n",
    "from sklearn.compose import make_column_transformer # to facilitate the building of a pipeline\n",
    "from sklearn.linear_model import LinearRegression # data model\n",
    "from sklearn.pipeline import make_pipeline # to build a pipeline\n",
    "from sklearn.model_selection import cross_val_score # to score the model\n",
    "from sklearn.preprocessing import LabelEncoder # to encode categorical variables"
   ]
  },
  {
   "cell_type": "code",
   "execution_count": 2,
   "metadata": {},
   "outputs": [],
   "source": [
    "chicago_df = pd.read_csv('../Datasets/chicago_home_w_region.csv', index_col=0) # read Chicago data"
   ]
  },
  {
   "cell_type": "code",
   "execution_count": 3,
   "metadata": {},
   "outputs": [
    {
     "data": {
      "text/html": [
       "<div>\n",
       "<style scoped>\n",
       "    .dataframe tbody tr th:only-of-type {\n",
       "        vertical-align: middle;\n",
       "    }\n",
       "\n",
       "    .dataframe tbody tr th {\n",
       "        vertical-align: top;\n",
       "    }\n",
       "\n",
       "    .dataframe thead th {\n",
       "        text-align: right;\n",
       "    }\n",
       "</style>\n",
       "<table border=\"1\" class=\"dataframe\">\n",
       "  <thead>\n",
       "    <tr style=\"text-align: right;\">\n",
       "      <th></th>\n",
       "      <th>price</th>\n",
       "      <th>sqfeet</th>\n",
       "      <th>beds</th>\n",
       "      <th>baths</th>\n",
       "      <th>cats_allowed</th>\n",
       "      <th>dogs_allowed</th>\n",
       "      <th>smoking_allowed</th>\n",
       "      <th>wheelchair_access</th>\n",
       "      <th>electric_vehicle_charge</th>\n",
       "      <th>comes_furnished</th>\n",
       "      <th>laundry_options</th>\n",
       "      <th>parking_options</th>\n",
       "      <th>lat</th>\n",
       "      <th>long</th>\n",
       "      <th>region</th>\n",
       "    </tr>\n",
       "  </thead>\n",
       "  <tbody>\n",
       "    <tr>\n",
       "      <th>80565</th>\n",
       "      <td>2910.0</td>\n",
       "      <td>1500.0</td>\n",
       "      <td>3.0</td>\n",
       "      <td>2.0</td>\n",
       "      <td>1</td>\n",
       "      <td>1</td>\n",
       "      <td>0</td>\n",
       "      <td>0</td>\n",
       "      <td>0</td>\n",
       "      <td>0</td>\n",
       "      <td>w/d in unit</td>\n",
       "      <td>street parking</td>\n",
       "      <td>41.8962</td>\n",
       "      <td>-87.6685</td>\n",
       "      <td>9.0</td>\n",
       "    </tr>\n",
       "    <tr>\n",
       "      <th>80776</th>\n",
       "      <td>1200.0</td>\n",
       "      <td>800.0</td>\n",
       "      <td>2.0</td>\n",
       "      <td>1.0</td>\n",
       "      <td>1</td>\n",
       "      <td>0</td>\n",
       "      <td>1</td>\n",
       "      <td>0</td>\n",
       "      <td>0</td>\n",
       "      <td>0</td>\n",
       "      <td>unknown</td>\n",
       "      <td>unknown</td>\n",
       "      <td>41.9019</td>\n",
       "      <td>-87.6779</td>\n",
       "      <td>9.0</td>\n",
       "    </tr>\n",
       "    <tr>\n",
       "      <th>80885</th>\n",
       "      <td>2600.0</td>\n",
       "      <td>715.0</td>\n",
       "      <td>1.0</td>\n",
       "      <td>1.0</td>\n",
       "      <td>1</td>\n",
       "      <td>1</td>\n",
       "      <td>0</td>\n",
       "      <td>1</td>\n",
       "      <td>0</td>\n",
       "      <td>0</td>\n",
       "      <td>w/d in unit</td>\n",
       "      <td>attached garage</td>\n",
       "      <td>41.9039</td>\n",
       "      <td>-87.6346</td>\n",
       "      <td>1.0</td>\n",
       "    </tr>\n",
       "    <tr>\n",
       "      <th>80893</th>\n",
       "      <td>2100.0</td>\n",
       "      <td>565.0</td>\n",
       "      <td>0.0</td>\n",
       "      <td>1.0</td>\n",
       "      <td>1</td>\n",
       "      <td>1</td>\n",
       "      <td>0</td>\n",
       "      <td>1</td>\n",
       "      <td>0</td>\n",
       "      <td>0</td>\n",
       "      <td>w/d in unit</td>\n",
       "      <td>attached garage</td>\n",
       "      <td>41.9039</td>\n",
       "      <td>-87.6346</td>\n",
       "      <td>1.0</td>\n",
       "    </tr>\n",
       "    <tr>\n",
       "      <th>81255</th>\n",
       "      <td>1873.0</td>\n",
       "      <td>547.0</td>\n",
       "      <td>0.0</td>\n",
       "      <td>1.0</td>\n",
       "      <td>1</td>\n",
       "      <td>1</td>\n",
       "      <td>0</td>\n",
       "      <td>1</td>\n",
       "      <td>0</td>\n",
       "      <td>0</td>\n",
       "      <td>w/d in unit</td>\n",
       "      <td>attached garage</td>\n",
       "      <td>41.8967</td>\n",
       "      <td>-87.6270</td>\n",
       "      <td>1.0</td>\n",
       "    </tr>\n",
       "  </tbody>\n",
       "</table>\n",
       "</div>"
      ],
      "text/plain": [
       "        price  sqfeet  beds  baths  cats_allowed  dogs_allowed  \\\n",
       "80565  2910.0  1500.0   3.0    2.0             1             1   \n",
       "80776  1200.0   800.0   2.0    1.0             1             0   \n",
       "80885  2600.0   715.0   1.0    1.0             1             1   \n",
       "80893  2100.0   565.0   0.0    1.0             1             1   \n",
       "81255  1873.0   547.0   0.0    1.0             1             1   \n",
       "\n",
       "       smoking_allowed  wheelchair_access  electric_vehicle_charge  \\\n",
       "80565                0                  0                        0   \n",
       "80776                1                  0                        0   \n",
       "80885                0                  1                        0   \n",
       "80893                0                  1                        0   \n",
       "81255                0                  1                        0   \n",
       "\n",
       "       comes_furnished laundry_options  parking_options      lat     long  \\\n",
       "80565                0     w/d in unit   street parking  41.8962 -87.6685   \n",
       "80776                0         unknown          unknown  41.9019 -87.6779   \n",
       "80885                0     w/d in unit  attached garage  41.9039 -87.6346   \n",
       "80893                0     w/d in unit  attached garage  41.9039 -87.6346   \n",
       "81255                0     w/d in unit  attached garage  41.8967 -87.6270   \n",
       "\n",
       "       region  \n",
       "80565     9.0  \n",
       "80776     9.0  \n",
       "80885     1.0  \n",
       "80893     1.0  \n",
       "81255     1.0  "
      ]
     },
     "metadata": {},
     "output_type": "display_data"
    }
   ],
   "source": [
    "display(chicago_df.head()) # view the first 5 rows"
   ]
  },
  {
   "cell_type": "code",
   "execution_count": 4,
   "metadata": {},
   "outputs": [
    {
     "name": "stdout",
     "output_type": "stream",
     "text": [
      "(729, 15)\n"
     ]
    }
   ],
   "source": [
    "print(chicago_df.shape) # get the data shape"
   ]
  },
  {
   "cell_type": "code",
   "execution_count": 5,
   "metadata": {},
   "outputs": [
    {
     "name": "stdout",
     "output_type": "stream",
     "text": [
      "Cross-val scores: [0.73203703 0.74253047 0.54587459 0.76248539 0.70411099]\n",
      "Average cross-val score: 0.6974\n"
     ]
    },
    {
     "data": {
      "text/plain": [
       "Pipeline(steps=[('columntransformer',\n",
       "                 ColumnTransformer(remainder='passthrough',\n",
       "                                   transformers=[('onehotencoder',\n",
       "                                                  OneHotEncoder(handle_unknown='ignore'),\n",
       "                                                  ['region', 'laundry_options',\n",
       "                                                   'parking_options'])])),\n",
       "                ('linearregression', LinearRegression())])"
      ]
     },
     "execution_count": 5,
     "metadata": {},
     "output_type": "execute_result"
    }
   ],
   "source": [
    "X = chicago_df.drop(['price', 'lat', 'long'], axis=1) # extract independent variables\n",
    "y = chicago_df['price'] # extract the target variable\n",
    "\n",
    "column_transformer = make_column_transformer((OneHotEncoder(handle_unknown='ignore'),\n",
    "                                                ['region', 'laundry_options', 'parking_options']), \n",
    "                                                remainder='passthrough')\n",
    "\n",
    "lr_model = LinearRegression() # instantiate the model\n",
    "\n",
    "chicago_pipeline = make_pipeline(column_transformer ,lr_model) # build the pipeline\n",
    "\n",
    "scores = cross_val_score(chicago_pipeline, X, y, scoring='r2') # get scores\n",
    "\n",
    "print('Cross-val scores: {}'.format(scores))\n",
    "print('Average cross-val score: {}'.format(round(scores.mean(), 4)))\n",
    "\n",
    "chicago_pipeline.fit(X, y)"
   ]
  },
  {
   "cell_type": "code",
   "execution_count": 6,
   "metadata": {},
   "outputs": [],
   "source": [
    "# create an empy pandas dataframe we can add to\n",
    "apartment_info = pd.DataFrame(data=[np.zeros(len(X.columns))], columns=X.columns)\n",
    "\n",
    "# fill the dataframe.\n",
    "apartment_info['sqfeet'] = 1250\n",
    "apartment_info['beds'] = 2\n",
    "apartment_info['baths'] = 1\n",
    "apartment_info['cats_allowed'] = 1\n",
    "apartment_info['dogs_allowed'] = 1\n",
    "apartment_info['comes_furnished'] = 1\n",
    "apartment_info['laundry_options'] = 'laundry in bldg'\n",
    "apartment_info['parking_options'] = 'street parking'\n",
    "apartment_info['region'] = 9"
   ]
  },
  {
   "cell_type": "code",
   "execution_count": 7,
   "metadata": {},
   "outputs": [
    {
     "data": {
      "text/html": [
       "<div>\n",
       "<style scoped>\n",
       "    .dataframe tbody tr th:only-of-type {\n",
       "        vertical-align: middle;\n",
       "    }\n",
       "\n",
       "    .dataframe tbody tr th {\n",
       "        vertical-align: top;\n",
       "    }\n",
       "\n",
       "    .dataframe thead th {\n",
       "        text-align: right;\n",
       "    }\n",
       "</style>\n",
       "<table border=\"1\" class=\"dataframe\">\n",
       "  <thead>\n",
       "    <tr style=\"text-align: right;\">\n",
       "      <th></th>\n",
       "      <th>sqfeet</th>\n",
       "      <th>beds</th>\n",
       "      <th>baths</th>\n",
       "      <th>cats_allowed</th>\n",
       "      <th>dogs_allowed</th>\n",
       "      <th>smoking_allowed</th>\n",
       "      <th>wheelchair_access</th>\n",
       "      <th>electric_vehicle_charge</th>\n",
       "      <th>comes_furnished</th>\n",
       "      <th>laundry_options</th>\n",
       "      <th>parking_options</th>\n",
       "      <th>region</th>\n",
       "    </tr>\n",
       "  </thead>\n",
       "  <tbody>\n",
       "    <tr>\n",
       "      <th>0</th>\n",
       "      <td>1250</td>\n",
       "      <td>2</td>\n",
       "      <td>1</td>\n",
       "      <td>1</td>\n",
       "      <td>1</td>\n",
       "      <td>0.0</td>\n",
       "      <td>0.0</td>\n",
       "      <td>0.0</td>\n",
       "      <td>1</td>\n",
       "      <td>laundry in bldg</td>\n",
       "      <td>street parking</td>\n",
       "      <td>9</td>\n",
       "    </tr>\n",
       "  </tbody>\n",
       "</table>\n",
       "</div>"
      ],
      "text/plain": [
       "   sqfeet  beds  baths  cats_allowed  dogs_allowed  smoking_allowed  \\\n",
       "0    1250     2      1             1             1              0.0   \n",
       "\n",
       "   wheelchair_access  electric_vehicle_charge  comes_furnished  \\\n",
       "0                0.0                      0.0                1   \n",
       "\n",
       "   laundry_options parking_options  region  \n",
       "0  laundry in bldg  street parking       9  "
      ]
     },
     "execution_count": 7,
     "metadata": {},
     "output_type": "execute_result"
    }
   ],
   "source": [
    "apartment_info"
   ]
  },
  {
   "cell_type": "code",
   "execution_count": 8,
   "metadata": {},
   "outputs": [
    {
     "data": {
      "text/plain": [
       "1923.7011984016979"
      ]
     },
     "execution_count": 8,
     "metadata": {},
     "output_type": "execute_result"
    }
   ],
   "source": [
    "chicago_pipeline.predict(apartment_info)[0]"
   ]
  },
  {
   "cell_type": "code",
   "execution_count": 9,
   "metadata": {},
   "outputs": [
    {
     "name": "stdout",
     "output_type": "stream",
     "text": [
      "The predicted price is $1924 per month\n"
     ]
    }
   ],
   "source": [
    "print('The predicted price is ${} per month'.format(round(chicago_pipeline.predict(apartment_info)[0])))"
   ]
  },
  {
   "cell_type": "markdown",
   "metadata": {},
   "source": [
    "# Building the National Model Pipeline"
   ]
  },
  {
   "cell_type": "code",
   "execution_count": 10,
   "metadata": {},
   "outputs": [
    {
     "name": "stdout",
     "output_type": "stream",
     "text": [
      "(367357, 17)\n"
     ]
    }
   ],
   "source": [
    "# read the cleaned data into a pandas dataframe\n",
    "df1 = pd.read_csv('../Datasets/clean_housing_1.csv', index_col=0)\n",
    "df2 = pd.read_csv('../Datasets/clean_housing_2.csv', index_col=0)\n",
    "\n",
    "# concatenate the data\n",
    "national_df = pd.concat([df1, df2])\n",
    "\n",
    "print(national_df.shape) # confirm the shape"
   ]
  },
  {
   "cell_type": "code",
   "execution_count": 11,
   "metadata": {},
   "outputs": [
    {
     "data": {
      "text/html": [
       "<div>\n",
       "<style scoped>\n",
       "    .dataframe tbody tr th:only-of-type {\n",
       "        vertical-align: middle;\n",
       "    }\n",
       "\n",
       "    .dataframe tbody tr th {\n",
       "        vertical-align: top;\n",
       "    }\n",
       "\n",
       "    .dataframe thead th {\n",
       "        text-align: right;\n",
       "    }\n",
       "</style>\n",
       "<table border=\"1\" class=\"dataframe\">\n",
       "  <thead>\n",
       "    <tr style=\"text-align: right;\">\n",
       "      <th></th>\n",
       "      <th>region</th>\n",
       "      <th>price</th>\n",
       "      <th>type</th>\n",
       "      <th>sqfeet</th>\n",
       "      <th>beds</th>\n",
       "      <th>baths</th>\n",
       "      <th>cats_allowed</th>\n",
       "      <th>dogs_allowed</th>\n",
       "      <th>smoking_allowed</th>\n",
       "      <th>wheelchair_access</th>\n",
       "      <th>electric_vehicle_charge</th>\n",
       "      <th>comes_furnished</th>\n",
       "      <th>laundry_options</th>\n",
       "      <th>parking_options</th>\n",
       "      <th>lat</th>\n",
       "      <th>long</th>\n",
       "      <th>state</th>\n",
       "    </tr>\n",
       "  </thead>\n",
       "  <tbody>\n",
       "    <tr>\n",
       "      <th>145452</th>\n",
       "      <td>ann arbor</td>\n",
       "      <td>1448.0</td>\n",
       "      <td>apartment</td>\n",
       "      <td>476.0</td>\n",
       "      <td>0.0</td>\n",
       "      <td>1.0</td>\n",
       "      <td>1</td>\n",
       "      <td>1</td>\n",
       "      <td>0</td>\n",
       "      <td>1</td>\n",
       "      <td>1</td>\n",
       "      <td>0</td>\n",
       "      <td>w/d in unit</td>\n",
       "      <td>attached garage</td>\n",
       "      <td>42.2517</td>\n",
       "      <td>-83.7232</td>\n",
       "      <td>MI</td>\n",
       "    </tr>\n",
       "    <tr>\n",
       "      <th>366264</th>\n",
       "      <td>little rock</td>\n",
       "      <td>635.0</td>\n",
       "      <td>apartment</td>\n",
       "      <td>958.0</td>\n",
       "      <td>1.0</td>\n",
       "      <td>1.0</td>\n",
       "      <td>0</td>\n",
       "      <td>0</td>\n",
       "      <td>1</td>\n",
       "      <td>0</td>\n",
       "      <td>0</td>\n",
       "      <td>0</td>\n",
       "      <td>w/d hookups</td>\n",
       "      <td>unknown</td>\n",
       "      <td>34.8807</td>\n",
       "      <td>-92.2303</td>\n",
       "      <td>AR</td>\n",
       "    </tr>\n",
       "    <tr>\n",
       "      <th>353156</th>\n",
       "      <td>mobile</td>\n",
       "      <td>630.0</td>\n",
       "      <td>apartment</td>\n",
       "      <td>700.0</td>\n",
       "      <td>1.0</td>\n",
       "      <td>1.0</td>\n",
       "      <td>1</td>\n",
       "      <td>1</td>\n",
       "      <td>1</td>\n",
       "      <td>0</td>\n",
       "      <td>0</td>\n",
       "      <td>0</td>\n",
       "      <td>laundry on site</td>\n",
       "      <td>unknown</td>\n",
       "      <td>30.6762</td>\n",
       "      <td>-88.1844</td>\n",
       "      <td>AL</td>\n",
       "    </tr>\n",
       "    <tr>\n",
       "      <th>13144</th>\n",
       "      <td>ventura county</td>\n",
       "      <td>2150.0</td>\n",
       "      <td>apartment</td>\n",
       "      <td>893.0</td>\n",
       "      <td>2.0</td>\n",
       "      <td>2.0</td>\n",
       "      <td>1</td>\n",
       "      <td>1</td>\n",
       "      <td>1</td>\n",
       "      <td>0</td>\n",
       "      <td>0</td>\n",
       "      <td>0</td>\n",
       "      <td>w/d in unit</td>\n",
       "      <td>carport</td>\n",
       "      <td>34.2712</td>\n",
       "      <td>-119.2070</td>\n",
       "      <td>CA</td>\n",
       "    </tr>\n",
       "    <tr>\n",
       "      <th>169165</th>\n",
       "      <td>jackson</td>\n",
       "      <td>750.0</td>\n",
       "      <td>apartment</td>\n",
       "      <td>896.0</td>\n",
       "      <td>1.0</td>\n",
       "      <td>1.0</td>\n",
       "      <td>1</td>\n",
       "      <td>1</td>\n",
       "      <td>1</td>\n",
       "      <td>1</td>\n",
       "      <td>0</td>\n",
       "      <td>0</td>\n",
       "      <td>w/d hookups</td>\n",
       "      <td>off-street parking</td>\n",
       "      <td>32.2221</td>\n",
       "      <td>-90.2319</td>\n",
       "      <td>MS</td>\n",
       "    </tr>\n",
       "  </tbody>\n",
       "</table>\n",
       "</div>"
      ],
      "text/plain": [
       "                region   price       type  sqfeet  beds  baths  cats_allowed  \\\n",
       "145452       ann arbor  1448.0  apartment   476.0   0.0    1.0             1   \n",
       "366264     little rock   635.0  apartment   958.0   1.0    1.0             0   \n",
       "353156          mobile   630.0  apartment   700.0   1.0    1.0             1   \n",
       "13144   ventura county  2150.0  apartment   893.0   2.0    2.0             1   \n",
       "169165         jackson   750.0  apartment   896.0   1.0    1.0             1   \n",
       "\n",
       "        dogs_allowed  smoking_allowed  wheelchair_access  \\\n",
       "145452             1                0                  1   \n",
       "366264             0                1                  0   \n",
       "353156             1                1                  0   \n",
       "13144              1                1                  0   \n",
       "169165             1                1                  1   \n",
       "\n",
       "        electric_vehicle_charge  comes_furnished  laundry_options  \\\n",
       "145452                        1                0      w/d in unit   \n",
       "366264                        0                0      w/d hookups   \n",
       "353156                        0                0  laundry on site   \n",
       "13144                         0                0      w/d in unit   \n",
       "169165                        0                0      w/d hookups   \n",
       "\n",
       "           parking_options      lat      long state  \n",
       "145452     attached garage  42.2517  -83.7232    MI  \n",
       "366264             unknown  34.8807  -92.2303    AR  \n",
       "353156             unknown  30.6762  -88.1844    AL  \n",
       "13144              carport  34.2712 -119.2070    CA  \n",
       "169165  off-street parking  32.2221  -90.2319    MS  "
      ]
     },
     "metadata": {},
     "output_type": "display_data"
    }
   ],
   "source": [
    "display(national_df.sample(5)) # view 5 random samples"
   ]
  },
  {
   "cell_type": "code",
   "execution_count": 12,
   "metadata": {},
   "outputs": [],
   "source": [
    "def subset_by_state(state):\n",
    "    \"\"\"Seperate the states from the rest\"\"\"\n",
    "\n",
    "    # seperate the state from the others\n",
    "    subset = national_df[national_df['state'] == state]\n",
    "    \n",
    "    #return a dataframe for the desired state\n",
    "    return subset"
   ]
  },
  {
   "cell_type": "code",
   "execution_count": 13,
   "metadata": {},
   "outputs": [],
   "source": [
    "# create a dictionary to store the dataframes for each state \n",
    "d = {}\n",
    "for state in national_df.state.unique():\n",
    "    d[\"{}_df\".format(state)] = subset_by_state(state)"
   ]
  },
  {
   "cell_type": "code",
   "execution_count": 14,
   "metadata": {},
   "outputs": [],
   "source": [
    "pipelines = {}\n",
    "\n",
    "for key in d.keys():\n",
    "    \n",
    "    X = d[str(key)].drop(['price', 'state', 'lat', 'long'], axis=1)\n",
    "    y = d[str(key)]['price']\n",
    "\n",
    "    column_transformer = make_column_transformer((OneHotEncoder(handle_unknown='ignore'), \n",
    "                                              ['region', 'type', 'laundry_options', 'parking_options']),\n",
    "                                             remainder='passthrough')\n",
    "\n",
    "    lr_model = LinearRegression()\n",
    "\n",
    "    pipeline = make_pipeline(column_transformer, lr_model)\n",
    "\n",
    "    pipelines[str(key)] = [pipeline.fit(X, y), X, y]"
   ]
  },
  {
   "cell_type": "code",
   "execution_count": 15,
   "metadata": {},
   "outputs": [
    {
     "name": "stdout",
     "output_type": "stream",
     "text": [
      "Here is our fitted model for California: \n",
      " Pipeline(steps=[('columntransformer',\n",
      "                 ColumnTransformer(remainder='passthrough',\n",
      "                                   transformers=[('onehotencoder',\n",
      "                                                  OneHotEncoder(handle_unknown='ignore'),\n",
      "                                                  ['region', 'type',\n",
      "                                                   'laundry_options',\n",
      "                                                   'parking_options'])])),\n",
      "                ('linearregression', LinearRegression())]) \n",
      "\n",
      "Here are the independent variables for California: \n",
      "               region       type  sqfeet  beds  baths  cats_allowed  \\\n",
      "0       reno / tahoe  apartment  1078.0   3.0    2.0             1   \n",
      "1       reno / tahoe      condo  1001.0   2.0    2.0             0   \n",
      "2       reno / tahoe  apartment  1683.0   2.0    2.0             1   \n",
      "3       reno / tahoe  apartment   708.0   1.0    1.0             1   \n",
      "5       reno / tahoe  apartment   720.0   1.0    1.0             1   \n",
      "...              ...        ...     ...   ...    ...           ...   \n",
      "384972  reno / tahoe  apartment   957.0   2.0    2.0             1   \n",
      "384973  reno / tahoe  apartment  1034.0   2.0    2.0             1   \n",
      "384974  reno / tahoe  apartment   840.0   2.0    1.0             1   \n",
      "384975  reno / tahoe  apartment   976.0   2.0    2.0             1   \n",
      "384976  reno / tahoe  apartment   957.0   2.0    2.0             1   \n",
      "\n",
      "        dogs_allowed  smoking_allowed  wheelchair_access  \\\n",
      "0                  1                0                  0   \n",
      "1                  0                0                  0   \n",
      "2                  1                1                  0   \n",
      "3                  1                1                  0   \n",
      "5                  1                1                  0   \n",
      "...              ...              ...                ...   \n",
      "384972             1                1                  0   \n",
      "384973             1                0                  0   \n",
      "384974             1                1                  0   \n",
      "384975             1                1                  0   \n",
      "384976             1                1                  0   \n",
      "\n",
      "        electric_vehicle_charge  comes_furnished  laundry_options  \\\n",
      "0                             0                0      w/d in unit   \n",
      "1                             0                0      w/d hookups   \n",
      "2                             0                0      w/d in unit   \n",
      "3                             0                0      w/d in unit   \n",
      "5                             0                0  laundry in bldg   \n",
      "...                         ...              ...              ...   \n",
      "384972                        0                0      w/d in unit   \n",
      "384973                        0                0      w/d in unit   \n",
      "384974                        0                0  laundry on site   \n",
      "384975                        0                0      w/d in unit   \n",
      "384976                        0                0      w/d in unit   \n",
      "\n",
      "           parking_options  \n",
      "0                  carport  \n",
      "1                  carport  \n",
      "2          attached garage  \n",
      "3                  carport  \n",
      "5                  unknown  \n",
      "...                    ...  \n",
      "384972             carport  \n",
      "384973             unknown  \n",
      "384974  off-street parking  \n",
      "384975             carport  \n",
      "384976             carport  \n",
      "\n",
      "[30069 rows x 13 columns] \n",
      "\n",
      "Here are the housing prices for California: \n",
      " 0         1148.0\n",
      "1         1200.0\n",
      "2         1813.0\n",
      "3         1095.0\n",
      "5         1093.0\n",
      "           ...  \n",
      "384972    1295.0\n",
      "384973    1549.0\n",
      "384974    1249.0\n",
      "384975    1429.0\n",
      "384976    1295.0\n",
      "Name: price, Length: 30069, dtype: float64 \n",
      "\n"
     ]
    }
   ],
   "source": [
    "# here are the fitted models stored into a dictionary with the appropriate data\n",
    "print('Here is our fitted model for California: \\n', pipelines['CA_df'][0], '\\n')\n",
    "print('Here are the independent variables for California: \\n', pipelines['CA_df'][1], '\\n')\n",
    "print('Here are the housing prices for California: \\n', pipelines['CA_df'][2], '\\n')"
   ]
  },
  {
   "cell_type": "code",
   "execution_count": 16,
   "metadata": {},
   "outputs": [],
   "source": [
    "# we can now make our predictions using our national models. Let's see what price we get for our desired Chicago unit"
   ]
  },
  {
   "cell_type": "code",
   "execution_count": 17,
   "metadata": {},
   "outputs": [],
   "source": [
    "# create an empy pandas dataframe we can add to\n",
    "national_apartment_info = pd.DataFrame(data=[np.zeros(len(X.columns))], columns=X.columns)\n",
    "\n",
    "# fill the dataframe. The data will be a little different since we are using the national model\n",
    "national_apartment_info['region'] = 'chicago'\n",
    "national_apartment_info['type'] = 'apartment'\n",
    "national_apartment_info['sqfeet'] = 1250\n",
    "national_apartment_info['beds'] = 2\n",
    "national_apartment_info['baths'] = 1\n",
    "national_apartment_info['cats_allowed'] = 1\n",
    "national_apartment_info['dogs_allowed'] = 1\n",
    "national_apartment_info['comes_furnished'] = 1\n",
    "national_apartment_info['laundry_options'] = 'laundry in bldg'\n",
    "national_apartment_info['parking_options'] = 'street parking'"
   ]
  },
  {
   "cell_type": "code",
   "execution_count": 18,
   "metadata": {},
   "outputs": [
    {
     "name": "stdout",
     "output_type": "stream",
     "text": [
      "The statewide model predicts the price to be $1862\n"
     ]
    }
   ],
   "source": [
    "# we will use the Illinois model to get the price\n",
    "print('The statewide model predicts the price to be ${}'\\\n",
    "      .format(round(pipelines['IL_df'][0].predict(national_apartment_info)[0])))"
   ]
  },
  {
   "cell_type": "code",
   "execution_count": 19,
   "metadata": {},
   "outputs": [
    {
     "name": "stdout",
     "output_type": "stream",
     "text": [
      "All r2 scores: [0.26338422 0.60235769 0.39579624 0.19720403 0.47088651]\n",
      "Average r2 score: 0.3859\n"
     ]
    }
   ],
   "source": [
    "scores = cross_val_score(pipelines['IL_df'][0], pipelines['IL_df'][1], pipelines['IL_df'][2], scoring='r2')\n",
    "print('All r2 scores:', scores)\n",
    "print('Average r2 score:', round(scores.mean(), 4))"
   ]
  },
  {
   "cell_type": "code",
   "execution_count": 20,
   "metadata": {},
   "outputs": [],
   "source": [
    "# The model performs better at an individual region level. It is more likely that the previous price/model is closer \n",
    "# to the correct price. This is likely due to the differences in price across the regions within a state and the \n",
    "# limitations of the linear regression model"
   ]
  },
  {
   "cell_type": "markdown",
   "metadata": {},
   "source": [
    "# Model Deployment"
   ]
  },
  {
   "cell_type": "code",
   "execution_count": 21,
   "metadata": {},
   "outputs": [],
   "source": [
    "# we now have a deployable pipeline we can put into an application"
   ]
  },
  {
   "cell_type": "code",
   "execution_count": 22,
   "metadata": {},
   "outputs": [
    {
     "data": {
      "text/plain": [
       "['../Models/chicago_model.ml']"
      ]
     },
     "execution_count": 22,
     "metadata": {},
     "output_type": "execute_result"
    }
   ],
   "source": [
    "import joblib # import joblib\n",
    "\n",
    "joblib.dump(chicago_pipeline, '../Models/chicago_model.ml') # save the Chicago model for deployment"
   ]
  },
  {
   "cell_type": "code",
   "execution_count": null,
   "metadata": {},
   "outputs": [],
   "source": []
  }
 ],
 "metadata": {
  "kernelspec": {
   "display_name": "Python 3",
   "language": "python",
   "name": "python3"
  },
  "language_info": {
   "codemirror_mode": {
    "name": "ipython",
    "version": 3
   },
   "file_extension": ".py",
   "mimetype": "text/x-python",
   "name": "python",
   "nbconvert_exporter": "python",
   "pygments_lexer": "ipython3",
   "version": "3.8.5"
  }
 },
 "nbformat": 4,
 "nbformat_minor": 4
}
