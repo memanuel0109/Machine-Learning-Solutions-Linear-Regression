{
 "cells": [
  {
   "cell_type": "code",
   "execution_count": 1,
   "metadata": {},
   "outputs": [],
   "source": [
    "import pandas as pd # import pandas under alias\n",
    "import matplotlib.pyplot as plt # import matplotlib's pyplot under alias"
   ]
  },
  {
   "cell_type": "code",
   "execution_count": 2,
   "metadata": {},
   "outputs": [],
   "source": [
    "df = pd.read_csv('../housing.csv') # read the CSV formatted data into a dataframe"
   ]
  },
  {
   "cell_type": "markdown",
   "metadata": {},
   "source": [
    "### Note -- the housing dataset is too large to be uploaded to github. The dataset can be found at this link: https://www.kaggle.com/austinreese/usa-housing-listings"
   ]
  },
  {
   "cell_type": "code",
   "execution_count": 3,
   "metadata": {},
   "outputs": [
    {
     "name": "stdout",
     "output_type": "stream",
     "text": [
      "Index(['id', 'url', 'region', 'region_url', 'price', 'type', 'sqfeet', 'beds',\n",
      "       'baths', 'cats_allowed', 'dogs_allowed', 'smoking_allowed',\n",
      "       'wheelchair_access', 'electric_vehicle_charge', 'comes_furnished',\n",
      "       'laundry_options', 'parking_options', 'image_url', 'description', 'lat',\n",
      "       'long', 'state'],\n",
      "      dtype='object')\n"
     ]
    }
   ],
   "source": [
    "print(df.columns) # view the features"
   ]
  },
  {
   "cell_type": "code",
   "execution_count": 4,
   "metadata": {},
   "outputs": [
    {
     "name": "stdout",
     "output_type": "stream",
     "text": [
      "(384977, 22)\n"
     ]
    }
   ],
   "source": [
    "print(df.shape) # view the shape"
   ]
  },
  {
   "cell_type": "code",
   "execution_count": 5,
   "metadata": {},
   "outputs": [],
   "source": [
    "drop_columns = ['id', 'url', 'region_url', 'image_url', 'description'] # define unnecessary columns\n",
    "# 2 of these columns contain urls which take up a lot of space making the file large"
   ]
  },
  {
   "cell_type": "code",
   "execution_count": 6,
   "metadata": {},
   "outputs": [],
   "source": [
    "df = df.drop(drop_columns, axis=1) # drop the columns"
   ]
  },
  {
   "cell_type": "code",
   "execution_count": 7,
   "metadata": {},
   "outputs": [
    {
     "data": {
      "text/html": [
       "<div>\n",
       "<style scoped>\n",
       "    .dataframe tbody tr th:only-of-type {\n",
       "        vertical-align: middle;\n",
       "    }\n",
       "\n",
       "    .dataframe tbody tr th {\n",
       "        vertical-align: top;\n",
       "    }\n",
       "\n",
       "    .dataframe thead th {\n",
       "        text-align: right;\n",
       "    }\n",
       "</style>\n",
       "<table border=\"1\" class=\"dataframe\">\n",
       "  <thead>\n",
       "    <tr style=\"text-align: right;\">\n",
       "      <th></th>\n",
       "      <th>region</th>\n",
       "      <th>price</th>\n",
       "      <th>type</th>\n",
       "      <th>sqfeet</th>\n",
       "      <th>beds</th>\n",
       "      <th>baths</th>\n",
       "      <th>cats_allowed</th>\n",
       "      <th>dogs_allowed</th>\n",
       "      <th>smoking_allowed</th>\n",
       "      <th>wheelchair_access</th>\n",
       "      <th>electric_vehicle_charge</th>\n",
       "      <th>comes_furnished</th>\n",
       "      <th>laundry_options</th>\n",
       "      <th>parking_options</th>\n",
       "      <th>lat</th>\n",
       "      <th>long</th>\n",
       "      <th>state</th>\n",
       "    </tr>\n",
       "  </thead>\n",
       "  <tbody>\n",
       "    <tr>\n",
       "      <th>0</th>\n",
       "      <td>reno / tahoe</td>\n",
       "      <td>1148</td>\n",
       "      <td>apartment</td>\n",
       "      <td>1078</td>\n",
       "      <td>3</td>\n",
       "      <td>2.0</td>\n",
       "      <td>1</td>\n",
       "      <td>1</td>\n",
       "      <td>0</td>\n",
       "      <td>0</td>\n",
       "      <td>0</td>\n",
       "      <td>0</td>\n",
       "      <td>w/d in unit</td>\n",
       "      <td>carport</td>\n",
       "      <td>39.5483</td>\n",
       "      <td>-119.796</td>\n",
       "      <td>ca</td>\n",
       "    </tr>\n",
       "    <tr>\n",
       "      <th>1</th>\n",
       "      <td>reno / tahoe</td>\n",
       "      <td>1200</td>\n",
       "      <td>condo</td>\n",
       "      <td>1001</td>\n",
       "      <td>2</td>\n",
       "      <td>2.0</td>\n",
       "      <td>0</td>\n",
       "      <td>0</td>\n",
       "      <td>0</td>\n",
       "      <td>0</td>\n",
       "      <td>0</td>\n",
       "      <td>0</td>\n",
       "      <td>w/d hookups</td>\n",
       "      <td>carport</td>\n",
       "      <td>39.5026</td>\n",
       "      <td>-119.789</td>\n",
       "      <td>ca</td>\n",
       "    </tr>\n",
       "    <tr>\n",
       "      <th>2</th>\n",
       "      <td>reno / tahoe</td>\n",
       "      <td>1813</td>\n",
       "      <td>apartment</td>\n",
       "      <td>1683</td>\n",
       "      <td>2</td>\n",
       "      <td>2.0</td>\n",
       "      <td>1</td>\n",
       "      <td>1</td>\n",
       "      <td>1</td>\n",
       "      <td>0</td>\n",
       "      <td>0</td>\n",
       "      <td>0</td>\n",
       "      <td>w/d in unit</td>\n",
       "      <td>attached garage</td>\n",
       "      <td>39.6269</td>\n",
       "      <td>-119.708</td>\n",
       "      <td>ca</td>\n",
       "    </tr>\n",
       "    <tr>\n",
       "      <th>3</th>\n",
       "      <td>reno / tahoe</td>\n",
       "      <td>1095</td>\n",
       "      <td>apartment</td>\n",
       "      <td>708</td>\n",
       "      <td>1</td>\n",
       "      <td>1.0</td>\n",
       "      <td>1</td>\n",
       "      <td>1</td>\n",
       "      <td>1</td>\n",
       "      <td>0</td>\n",
       "      <td>0</td>\n",
       "      <td>0</td>\n",
       "      <td>w/d in unit</td>\n",
       "      <td>carport</td>\n",
       "      <td>39.4477</td>\n",
       "      <td>-119.771</td>\n",
       "      <td>ca</td>\n",
       "    </tr>\n",
       "    <tr>\n",
       "      <th>4</th>\n",
       "      <td>reno / tahoe</td>\n",
       "      <td>289</td>\n",
       "      <td>apartment</td>\n",
       "      <td>250</td>\n",
       "      <td>0</td>\n",
       "      <td>1.0</td>\n",
       "      <td>1</td>\n",
       "      <td>1</td>\n",
       "      <td>1</td>\n",
       "      <td>1</td>\n",
       "      <td>0</td>\n",
       "      <td>1</td>\n",
       "      <td>laundry on site</td>\n",
       "      <td>NaN</td>\n",
       "      <td>39.5357</td>\n",
       "      <td>-119.805</td>\n",
       "      <td>ca</td>\n",
       "    </tr>\n",
       "  </tbody>\n",
       "</table>\n",
       "</div>"
      ],
      "text/plain": [
       "         region  price       type  sqfeet  beds  baths  cats_allowed  \\\n",
       "0  reno / tahoe   1148  apartment    1078     3    2.0             1   \n",
       "1  reno / tahoe   1200      condo    1001     2    2.0             0   \n",
       "2  reno / tahoe   1813  apartment    1683     2    2.0             1   \n",
       "3  reno / tahoe   1095  apartment     708     1    1.0             1   \n",
       "4  reno / tahoe    289  apartment     250     0    1.0             1   \n",
       "\n",
       "   dogs_allowed  smoking_allowed  wheelchair_access  electric_vehicle_charge  \\\n",
       "0             1                0                  0                        0   \n",
       "1             0                0                  0                        0   \n",
       "2             1                1                  0                        0   \n",
       "3             1                1                  0                        0   \n",
       "4             1                1                  1                        0   \n",
       "\n",
       "   comes_furnished  laundry_options  parking_options      lat     long state  \n",
       "0                0      w/d in unit          carport  39.5483 -119.796    ca  \n",
       "1                0      w/d hookups          carport  39.5026 -119.789    ca  \n",
       "2                0      w/d in unit  attached garage  39.6269 -119.708    ca  \n",
       "3                0      w/d in unit          carport  39.4477 -119.771    ca  \n",
       "4                1  laundry on site              NaN  39.5357 -119.805    ca  "
      ]
     },
     "metadata": {},
     "output_type": "display_data"
    }
   ],
   "source": [
    "display(df.head()) # view the first 5 rows"
   ]
  },
  {
   "cell_type": "code",
   "execution_count": 8,
   "metadata": {},
   "outputs": [
    {
     "name": "stdout",
     "output_type": "stream",
     "text": [
      "region                          0\n",
      "price                           0\n",
      "type                            0\n",
      "sqfeet                          0\n",
      "beds                            0\n",
      "baths                           0\n",
      "cats_allowed                    0\n",
      "dogs_allowed                    0\n",
      "smoking_allowed                 0\n",
      "wheelchair_access               0\n",
      "electric_vehicle_charge         0\n",
      "comes_furnished                 0\n",
      "laundry_options             79026\n",
      "parking_options            140687\n",
      "lat                          1918\n",
      "long                         1918\n",
      "state                           0\n",
      "dtype: int64\n"
     ]
    }
   ],
   "source": [
    "print(df.isna().sum()) # view the count of missing values"
   ]
  },
  {
   "cell_type": "code",
   "execution_count": 9,
   "metadata": {},
   "outputs": [],
   "source": [
    "# fill laundry and parking column missing values with \"unknown\"\n",
    "df[['laundry_options', 'parking_options']] = df[['laundry_options', 'parking_options']].fillna('unknown')"
   ]
  },
  {
   "cell_type": "code",
   "execution_count": 10,
   "metadata": {},
   "outputs": [
    {
     "name": "stdout",
     "output_type": "stream",
     "text": [
      "(383059, 17)\n"
     ]
    }
   ],
   "source": [
    "df = df.dropna(how='any') # drop any values missing latitude and longitude\n",
    "print(df.shape) # view the new shape"
   ]
  },
  {
   "cell_type": "code",
   "execution_count": 11,
   "metadata": {},
   "outputs": [
    {
     "data": {
      "text/html": [
       "<div>\n",
       "<style scoped>\n",
       "    .dataframe tbody tr th:only-of-type {\n",
       "        vertical-align: middle;\n",
       "    }\n",
       "\n",
       "    .dataframe tbody tr th {\n",
       "        vertical-align: top;\n",
       "    }\n",
       "\n",
       "    .dataframe thead th {\n",
       "        text-align: right;\n",
       "    }\n",
       "</style>\n",
       "<table border=\"1\" class=\"dataframe\">\n",
       "  <thead>\n",
       "    <tr style=\"text-align: right;\">\n",
       "      <th></th>\n",
       "      <th>price</th>\n",
       "      <th>sqfeet</th>\n",
       "      <th>beds</th>\n",
       "      <th>baths</th>\n",
       "      <th>cats_allowed</th>\n",
       "      <th>dogs_allowed</th>\n",
       "      <th>smoking_allowed</th>\n",
       "      <th>wheelchair_access</th>\n",
       "      <th>electric_vehicle_charge</th>\n",
       "      <th>comes_furnished</th>\n",
       "      <th>lat</th>\n",
       "      <th>long</th>\n",
       "    </tr>\n",
       "  </thead>\n",
       "  <tbody>\n",
       "    <tr>\n",
       "      <th>count</th>\n",
       "      <td>3.830590e+05</td>\n",
       "      <td>3.830590e+05</td>\n",
       "      <td>383059.000000</td>\n",
       "      <td>383059.000000</td>\n",
       "      <td>383059.000000</td>\n",
       "      <td>383059.000000</td>\n",
       "      <td>383059.000000</td>\n",
       "      <td>383059.000000</td>\n",
       "      <td>383059.000000</td>\n",
       "      <td>383059.000000</td>\n",
       "      <td>383059.000000</td>\n",
       "      <td>383059.000000</td>\n",
       "    </tr>\n",
       "    <tr>\n",
       "      <th>mean</th>\n",
       "      <td>8.862148e+03</td>\n",
       "      <td>1.059198e+03</td>\n",
       "      <td>1.904127</td>\n",
       "      <td>1.480063</td>\n",
       "      <td>0.727264</td>\n",
       "      <td>0.708102</td>\n",
       "      <td>0.731963</td>\n",
       "      <td>0.082228</td>\n",
       "      <td>0.012875</td>\n",
       "      <td>0.047679</td>\n",
       "      <td>37.233487</td>\n",
       "      <td>-92.700631</td>\n",
       "    </tr>\n",
       "    <tr>\n",
       "      <th>std</th>\n",
       "      <td>4.473357e+06</td>\n",
       "      <td>1.919860e+04</td>\n",
       "      <td>3.502627</td>\n",
       "      <td>0.617504</td>\n",
       "      <td>0.445367</td>\n",
       "      <td>0.454636</td>\n",
       "      <td>0.442938</td>\n",
       "      <td>0.274711</td>\n",
       "      <td>0.112737</td>\n",
       "      <td>0.213087</td>\n",
       "      <td>5.546171</td>\n",
       "      <td>16.531980</td>\n",
       "    </tr>\n",
       "    <tr>\n",
       "      <th>min</th>\n",
       "      <td>0.000000e+00</td>\n",
       "      <td>0.000000e+00</td>\n",
       "      <td>0.000000</td>\n",
       "      <td>0.000000</td>\n",
       "      <td>0.000000</td>\n",
       "      <td>0.000000</td>\n",
       "      <td>0.000000</td>\n",
       "      <td>0.000000</td>\n",
       "      <td>0.000000</td>\n",
       "      <td>0.000000</td>\n",
       "      <td>-43.533300</td>\n",
       "      <td>-163.894000</td>\n",
       "    </tr>\n",
       "    <tr>\n",
       "      <th>25%</th>\n",
       "      <td>8.060000e+02</td>\n",
       "      <td>7.500000e+02</td>\n",
       "      <td>1.000000</td>\n",
       "      <td>1.000000</td>\n",
       "      <td>0.000000</td>\n",
       "      <td>0.000000</td>\n",
       "      <td>0.000000</td>\n",
       "      <td>0.000000</td>\n",
       "      <td>0.000000</td>\n",
       "      <td>0.000000</td>\n",
       "      <td>33.454700</td>\n",
       "      <td>-100.775000</td>\n",
       "    </tr>\n",
       "    <tr>\n",
       "      <th>50%</th>\n",
       "      <td>1.035000e+03</td>\n",
       "      <td>9.480000e+02</td>\n",
       "      <td>2.000000</td>\n",
       "      <td>1.000000</td>\n",
       "      <td>1.000000</td>\n",
       "      <td>1.000000</td>\n",
       "      <td>1.000000</td>\n",
       "      <td>0.000000</td>\n",
       "      <td>0.000000</td>\n",
       "      <td>0.000000</td>\n",
       "      <td>37.647800</td>\n",
       "      <td>-87.745100</td>\n",
       "    </tr>\n",
       "    <tr>\n",
       "      <th>75%</th>\n",
       "      <td>1.395000e+03</td>\n",
       "      <td>1.149000e+03</td>\n",
       "      <td>2.000000</td>\n",
       "      <td>2.000000</td>\n",
       "      <td>1.000000</td>\n",
       "      <td>1.000000</td>\n",
       "      <td>1.000000</td>\n",
       "      <td>0.000000</td>\n",
       "      <td>0.000000</td>\n",
       "      <td>0.000000</td>\n",
       "      <td>41.138300</td>\n",
       "      <td>-81.179600</td>\n",
       "    </tr>\n",
       "    <tr>\n",
       "      <th>max</th>\n",
       "      <td>2.768307e+09</td>\n",
       "      <td>8.388607e+06</td>\n",
       "      <td>1100.000000</td>\n",
       "      <td>75.000000</td>\n",
       "      <td>1.000000</td>\n",
       "      <td>1.000000</td>\n",
       "      <td>1.000000</td>\n",
       "      <td>1.000000</td>\n",
       "      <td>1.000000</td>\n",
       "      <td>1.000000</td>\n",
       "      <td>102.036000</td>\n",
       "      <td>172.633000</td>\n",
       "    </tr>\n",
       "  </tbody>\n",
       "</table>\n",
       "</div>"
      ],
      "text/plain": [
       "              price        sqfeet           beds          baths  \\\n",
       "count  3.830590e+05  3.830590e+05  383059.000000  383059.000000   \n",
       "mean   8.862148e+03  1.059198e+03       1.904127       1.480063   \n",
       "std    4.473357e+06  1.919860e+04       3.502627       0.617504   \n",
       "min    0.000000e+00  0.000000e+00       0.000000       0.000000   \n",
       "25%    8.060000e+02  7.500000e+02       1.000000       1.000000   \n",
       "50%    1.035000e+03  9.480000e+02       2.000000       1.000000   \n",
       "75%    1.395000e+03  1.149000e+03       2.000000       2.000000   \n",
       "max    2.768307e+09  8.388607e+06    1100.000000      75.000000   \n",
       "\n",
       "        cats_allowed   dogs_allowed  smoking_allowed  wheelchair_access  \\\n",
       "count  383059.000000  383059.000000    383059.000000      383059.000000   \n",
       "mean        0.727264       0.708102         0.731963           0.082228   \n",
       "std         0.445367       0.454636         0.442938           0.274711   \n",
       "min         0.000000       0.000000         0.000000           0.000000   \n",
       "25%         0.000000       0.000000         0.000000           0.000000   \n",
       "50%         1.000000       1.000000         1.000000           0.000000   \n",
       "75%         1.000000       1.000000         1.000000           0.000000   \n",
       "max         1.000000       1.000000         1.000000           1.000000   \n",
       "\n",
       "       electric_vehicle_charge  comes_furnished            lat           long  \n",
       "count            383059.000000    383059.000000  383059.000000  383059.000000  \n",
       "mean                  0.012875         0.047679      37.233487     -92.700631  \n",
       "std                   0.112737         0.213087       5.546171      16.531980  \n",
       "min                   0.000000         0.000000     -43.533300    -163.894000  \n",
       "25%                   0.000000         0.000000      33.454700    -100.775000  \n",
       "50%                   0.000000         0.000000      37.647800     -87.745100  \n",
       "75%                   0.000000         0.000000      41.138300     -81.179600  \n",
       "max                   1.000000         1.000000     102.036000     172.633000  "
      ]
     },
     "metadata": {},
     "output_type": "display_data"
    }
   ],
   "source": [
    "display(df.describe()) # view the descriptive statistics"
   ]
  },
  {
   "cell_type": "code",
   "execution_count": 12,
   "metadata": {},
   "outputs": [
    {
     "data": {
      "image/png": "[encoded data removed]",
      "text/plain": [
       "<Figure size 432x288 with 1 Axes>"
      ]
     },
     "metadata": {
      "needs_background": "light"
     },
     "output_type": "display_data"
    },
    {
     "name": "stdout",
     "output_type": "stream",
     "text": [
      "The minimum price is $0 per month\n",
      "The maximum price is $2768307249 per month\n"
     ]
    }
   ],
   "source": [
    "# view the histogram for home price per month\n",
    "plt.hist(df['price'])\n",
    "plt.show()\n",
    "\n",
    "print('The minimum price is ${} per month'.format(df.price.min()))\n",
    "print('The maximum price is ${} per month'.format(df.price.max()))"
   ]
  },
  {
   "cell_type": "code",
   "execution_count": 13,
   "metadata": {},
   "outputs": [
    {
     "name": "stdout",
     "output_type": "stream",
     "text": [
      "3395.0\n"
     ]
    }
   ],
   "source": [
    "print(df['price'].quantile(0.99)) # the 99th percentile is $3395 per month which seems reasonable"
   ]
  },
  {
   "cell_type": "code",
   "execution_count": 14,
   "metadata": {},
   "outputs": [
    {
     "data": {
      "image/png": "[encoded data removed]",
      "text/plain": [
       "<Figure size 432x288 with 1 Axes>"
      ]
     },
     "metadata": {
      "needs_background": "light"
     },
     "output_type": "display_data"
    },
    {
     "name": "stdout",
     "output_type": "stream",
     "text": [
      "The minimum square footage is 0 square feet\n",
      "The maximum square footage is 8388607 square feet\n"
     ]
    }
   ],
   "source": [
    "# view the histogram for square footage\n",
    "plt.hist(df['sqfeet'])\n",
    "plt.show()\n",
    "\n",
    "print('The minimum square footage is {} square feet'.format(df.sqfeet.min()))\n",
    "print('The maximum square footage is {} square feet'.format(df.sqfeet.max()))"
   ]
  },
  {
   "cell_type": "code",
   "execution_count": 15,
   "metadata": {},
   "outputs": [
    {
     "name": "stdout",
     "output_type": "stream",
     "text": [
      "4200.0\n"
     ]
    }
   ],
   "source": [
    "print(df['sqfeet'].quantile(0.999)) # the 99.9th percentile is 4200 sq feet which seems reasonable"
   ]
  },
  {
   "cell_type": "code",
   "execution_count": 16,
   "metadata": {},
   "outputs": [
    {
     "data": {
      "image/png": "[encoded data removed]",
      "text/plain": [
       "<Figure size 432x288 with 1 Axes>"
      ]
     },
     "metadata": {
      "needs_background": "light"
     },
     "output_type": "display_data"
    },
    {
     "name": "stdout",
     "output_type": "stream",
     "text": [
      "The minimum number of bathrooms is 0.0\n",
      "The maximum number of bathrooms is 75.0\n"
     ]
    }
   ],
   "source": [
    "# view the histogram for number of bathrooms\n",
    "plt.hist(df['baths'])\n",
    "plt.show()\n",
    "\n",
    "print('The minimum number of bathrooms is {}'.format(df.baths.min()))\n",
    "print('The maximum number of bathrooms is {}'.format(df.baths.max()))"
   ]
  },
  {
   "cell_type": "code",
   "execution_count": 17,
   "metadata": {},
   "outputs": [
    {
     "name": "stdout",
     "output_type": "stream",
     "text": [
      "1.0     197296\n",
      "2.0     134006\n",
      "1.5      27256\n",
      "2.5      13033\n",
      "3.0       5443\n",
      "0.0       3090\n",
      "4.0       1478\n",
      "3.5       1005\n",
      "4.5        223\n",
      "5.0        130\n",
      "5.5         57\n",
      "6.0         26\n",
      "6.5          4\n",
      "7.0          4\n",
      "75.0         2\n",
      "7.5          2\n",
      "8.0          1\n",
      "25.0         1\n",
      "35.0         1\n",
      "8.5          1\n",
      "Name: baths, dtype: int64\n"
     ]
    }
   ],
   "source": [
    "print(df.baths.value_counts()) # view the values for the baths column\n",
    "\n",
    "# there seems to be some input errors. 25, 35 and 75 bathrooms may represent 2.5, 3.5 and 7.5 respectively, but I \n",
    "# will safely drop those columns since there are so few"
   ]
  },
  {
   "cell_type": "code",
   "execution_count": 18,
   "metadata": {},
   "outputs": [
    {
     "data": {
      "image/png": "[encoded data removed]",
      "text/plain": [
       "<Figure size 432x288 with 1 Axes>"
      ]
     },
     "metadata": {
      "needs_background": "light"
     },
     "output_type": "display_data"
    },
    {
     "name": "stdout",
     "output_type": "stream",
     "text": [
      "The minimum number of bedrooms is 0\n",
      "The maximum number of bedrooms is 1100\n"
     ]
    }
   ],
   "source": [
    "# view the histogram for the number of bedrooms\n",
    "plt.hist(df['beds'])\n",
    "plt.show()\n",
    "\n",
    "print('The minimum number of bedrooms is {}'.format(df.beds.min()))\n",
    "print('The maximum number of bedrooms is {}'.format(df.beds.max()))"
   ]
  },
  {
   "cell_type": "code",
   "execution_count": 19,
   "metadata": {},
   "outputs": [
    {
     "name": "stdout",
     "output_type": "stream",
     "text": [
      "2       174705\n",
      "1       116823\n",
      "3        66520\n",
      "4        11454\n",
      "0        10922\n",
      "5         2313\n",
      "6          238\n",
      "7           49\n",
      "8           31\n",
      "1000         2\n",
      "1100         2\n",
      "Name: beds, dtype: int64\n"
     ]
    }
   ],
   "source": [
    "print(df.beds.value_counts()) # view the values for the beds column\n",
    "\n",
    "# additionally, we see some input errors. 1000 and 1100 seems to be a mistake. I will remove those entries. It is,\n",
    "# however, possible to have 0 bedrooms assuming those are studio apartments. I will keep those entries"
   ]
  },
  {
   "cell_type": "code",
   "execution_count": 20,
   "metadata": {},
   "outputs": [],
   "source": [
    "def min_max(dataframe, col, lower, upper):\n",
    "    \"\"\"drops outliers that may contain misinformation\"\"\"\n",
    "    \n",
    "    # define the lower boundry\n",
    "    lower_bound = dataframe[dataframe[col] >= lower]\n",
    "    \n",
    "    # define the upper boundry\n",
    "    upper_bound = lower_bound[lower_bound[col] <= upper]\n",
    "    \n",
    "    # return the results\n",
    "    return upper_bound[col]"
   ]
  },
  {
   "cell_type": "code",
   "execution_count": 21,
   "metadata": {},
   "outputs": [],
   "source": [
    "# set the lower boundry to $300 per month for price (seems reasonable) and the 99th percentile for the upper boundry\n",
    "df['price'] = min_max(df, 'price', lower=300, upper=df['price'].quantile(0.99))\n",
    "\n",
    "# set the lower boundry to 400 square feet (seems reasonable) and the 99.9th percentile for the upper boundry\n",
    "df['sqfeet'] = min_max(df, 'sqfeet', lower=400, upper=df['sqfeet'].quantile(0.999))\n",
    "\n",
    "# set the lower boundry to one bathroom and the upper boundry to 6. We will be dropping 17 rows in total\n",
    "df['baths'] = min_max(df, 'baths', lower=1, upper=6)\n",
    "\n",
    "# set the lower boundry to one bathroom and the upper boundry to 6. We will be dropping 17 rows in total\n",
    "df['beds'] = min_max(df, 'beds', lower=0, upper=8)\n",
    "\n",
    "# I am not taking lower boundry percentiles due to how right-tail skewed the data is. I decided instead to use values\n",
    "# that seem reasonable"
   ]
  },
  {
   "cell_type": "code",
   "execution_count": 22,
   "metadata": {},
   "outputs": [],
   "source": [
    "clean_df = df.dropna(how='any') # drop any missing values that may have been removed"
   ]
  },
  {
   "cell_type": "code",
   "execution_count": 23,
   "metadata": {},
   "outputs": [
    {
     "name": "stdout",
     "output_type": "stream",
     "text": [
      "(367357, 17)\n"
     ]
    }
   ],
   "source": [
    "print(clean_df.shape) # view the new shape"
   ]
  },
  {
   "cell_type": "code",
   "execution_count": 36,
   "metadata": {},
   "outputs": [
    {
     "data": {
      "image/png": "[encoded data removed]",
      "text/plain": [
       "<Figure size 432x288 with 1 Axes>"
      ]
     },
     "metadata": {
      "needs_background": "light"
     },
     "output_type": "display_data"
    }
   ],
   "source": [
    "# view the new histogram for home price per month\n",
    "plt.hist(clean_df['price'])\n",
    "plt.title('Price Histogram')\n",
    "plt.xlabel('Price per Month(USD)')\n",
    "plt.ylabel('Count')\n",
    "plt.show()"
   ]
  },
  {
   "cell_type": "code",
   "execution_count": 25,
   "metadata": {},
   "outputs": [
    {
     "data": {
      "image/png": "[encoded data removed]",
      "text/plain": [
       "<Figure size 432x288 with 1 Axes>"
      ]
     },
     "metadata": {
      "needs_background": "light"
     },
     "output_type": "display_data"
    }
   ],
   "source": [
    "# view the new histogram for square footage\n",
    "plt.hist(clean_df['sqfeet'])\n",
    "plt.show()"
   ]
  },
  {
   "cell_type": "code",
   "execution_count": 26,
   "metadata": {},
   "outputs": [
    {
     "data": {
      "image/png": "[encoded data removed]",
      "text/plain": [
       "<Figure size 432x288 with 1 Axes>"
      ]
     },
     "metadata": {
      "needs_background": "light"
     },
     "output_type": "display_data"
    }
   ],
   "source": [
    "# view the new histogram for bathrooms\n",
    "plt.hist(clean_df['baths'])\n",
    "plt.show()"
   ]
  },
  {
   "cell_type": "code",
   "execution_count": 27,
   "metadata": {},
   "outputs": [
    {
     "data": {
      "image/png": "[encoded data removed]",
      "text/plain": [
       "<Figure size 432x288 with 1 Axes>"
      ]
     },
     "metadata": {
      "needs_background": "light"
     },
     "output_type": "display_data"
    }
   ],
   "source": [
    "# view the new histogram for bathrooms\n",
    "plt.hist(clean_df['beds'])\n",
    "plt.show()"
   ]
  },
  {
   "cell_type": "code",
   "execution_count": 28,
   "metadata": {},
   "outputs": [
    {
     "name": "stdout",
     "output_type": "stream",
     "text": [
      "The new minimum price is $300.0 per month\n",
      "The new maximum price is $3395.0 per month\n"
     ]
    }
   ],
   "source": [
    "print('The new minimum price is ${} per month'.format(clean_df['price'].min()))\n",
    "print('The new maximum price is ${} per month'.format(clean_df['price'].max()))"
   ]
  },
  {
   "cell_type": "code",
   "execution_count": 29,
   "metadata": {},
   "outputs": [
    {
     "name": "stdout",
     "output_type": "stream",
     "text": [
      "The new minimum square footage is 400.0 square feet\n",
      "The new maximum square footage is 4200.0 square feet\n"
     ]
    }
   ],
   "source": [
    "print('The new minimum square footage is {} square feet'.format(clean_df['sqfeet'].min()))\n",
    "print('The new maximum square footage is {} square feet'.format(clean_df['sqfeet'].max()))"
   ]
  },
  {
   "cell_type": "code",
   "execution_count": 30,
   "metadata": {},
   "outputs": [
    {
     "data": {
      "text/html": [
       "<div>\n",
       "<style scoped>\n",
       "    .dataframe tbody tr th:only-of-type {\n",
       "        vertical-align: middle;\n",
       "    }\n",
       "\n",
       "    .dataframe tbody tr th {\n",
       "        vertical-align: top;\n",
       "    }\n",
       "\n",
       "    .dataframe thead th {\n",
       "        text-align: right;\n",
       "    }\n",
       "</style>\n",
       "<table border=\"1\" class=\"dataframe\">\n",
       "  <thead>\n",
       "    <tr style=\"text-align: right;\">\n",
       "      <th></th>\n",
       "      <th>price</th>\n",
       "      <th>sqfeet</th>\n",
       "      <th>beds</th>\n",
       "      <th>baths</th>\n",
       "      <th>cats_allowed</th>\n",
       "      <th>dogs_allowed</th>\n",
       "      <th>smoking_allowed</th>\n",
       "      <th>wheelchair_access</th>\n",
       "      <th>electric_vehicle_charge</th>\n",
       "      <th>comes_furnished</th>\n",
       "      <th>lat</th>\n",
       "      <th>long</th>\n",
       "    </tr>\n",
       "  </thead>\n",
       "  <tbody>\n",
       "    <tr>\n",
       "      <th>count</th>\n",
       "      <td>367357.000000</td>\n",
       "      <td>367357.000000</td>\n",
       "      <td>367357.000000</td>\n",
       "      <td>367357.000000</td>\n",
       "      <td>367357.000000</td>\n",
       "      <td>367357.000000</td>\n",
       "      <td>367357.000000</td>\n",
       "      <td>367357.000000</td>\n",
       "      <td>367357.000000</td>\n",
       "      <td>367357.000000</td>\n",
       "      <td>367357.000000</td>\n",
       "      <td>367357.000000</td>\n",
       "    </tr>\n",
       "    <tr>\n",
       "      <th>mean</th>\n",
       "      <td>1163.884573</td>\n",
       "      <td>994.907586</td>\n",
       "      <td>1.903086</td>\n",
       "      <td>1.490109</td>\n",
       "      <td>0.732369</td>\n",
       "      <td>0.712544</td>\n",
       "      <td>0.736548</td>\n",
       "      <td>0.079315</td>\n",
       "      <td>0.012203</td>\n",
       "      <td>0.039311</td>\n",
       "      <td>37.245365</td>\n",
       "      <td>-92.470732</td>\n",
       "    </tr>\n",
       "    <tr>\n",
       "      <th>std</th>\n",
       "      <td>490.588168</td>\n",
       "      <td>354.609974</td>\n",
       "      <td>0.853236</td>\n",
       "      <td>0.566402</td>\n",
       "      <td>0.442725</td>\n",
       "      <td>0.452577</td>\n",
       "      <td>0.440506</td>\n",
       "      <td>0.270230</td>\n",
       "      <td>0.109793</td>\n",
       "      <td>0.194333</td>\n",
       "      <td>5.538572</td>\n",
       "      <td>16.384773</td>\n",
       "    </tr>\n",
       "    <tr>\n",
       "      <th>min</th>\n",
       "      <td>300.000000</td>\n",
       "      <td>400.000000</td>\n",
       "      <td>0.000000</td>\n",
       "      <td>1.000000</td>\n",
       "      <td>0.000000</td>\n",
       "      <td>0.000000</td>\n",
       "      <td>0.000000</td>\n",
       "      <td>0.000000</td>\n",
       "      <td>0.000000</td>\n",
       "      <td>0.000000</td>\n",
       "      <td>-40.266600</td>\n",
       "      <td>-163.894000</td>\n",
       "    </tr>\n",
       "    <tr>\n",
       "      <th>25%</th>\n",
       "      <td>819.000000</td>\n",
       "      <td>754.000000</td>\n",
       "      <td>1.000000</td>\n",
       "      <td>1.000000</td>\n",
       "      <td>0.000000</td>\n",
       "      <td>0.000000</td>\n",
       "      <td>0.000000</td>\n",
       "      <td>0.000000</td>\n",
       "      <td>0.000000</td>\n",
       "      <td>0.000000</td>\n",
       "      <td>33.451000</td>\n",
       "      <td>-98.532200</td>\n",
       "    </tr>\n",
       "    <tr>\n",
       "      <th>50%</th>\n",
       "      <td>1042.000000</td>\n",
       "      <td>950.000000</td>\n",
       "      <td>2.000000</td>\n",
       "      <td>1.000000</td>\n",
       "      <td>1.000000</td>\n",
       "      <td>1.000000</td>\n",
       "      <td>1.000000</td>\n",
       "      <td>0.000000</td>\n",
       "      <td>0.000000</td>\n",
       "      <td>0.000000</td>\n",
       "      <td>37.666200</td>\n",
       "      <td>-87.581500</td>\n",
       "    </tr>\n",
       "    <tr>\n",
       "      <th>75%</th>\n",
       "      <td>1395.000000</td>\n",
       "      <td>1147.000000</td>\n",
       "      <td>2.000000</td>\n",
       "      <td>2.000000</td>\n",
       "      <td>1.000000</td>\n",
       "      <td>1.000000</td>\n",
       "      <td>1.000000</td>\n",
       "      <td>0.000000</td>\n",
       "      <td>0.000000</td>\n",
       "      <td>0.000000</td>\n",
       "      <td>41.160200</td>\n",
       "      <td>-81.144400</td>\n",
       "    </tr>\n",
       "    <tr>\n",
       "      <th>max</th>\n",
       "      <td>3395.000000</td>\n",
       "      <td>4200.000000</td>\n",
       "      <td>8.000000</td>\n",
       "      <td>6.000000</td>\n",
       "      <td>1.000000</td>\n",
       "      <td>1.000000</td>\n",
       "      <td>1.000000</td>\n",
       "      <td>1.000000</td>\n",
       "      <td>1.000000</td>\n",
       "      <td>1.000000</td>\n",
       "      <td>102.036000</td>\n",
       "      <td>94.156100</td>\n",
       "    </tr>\n",
       "  </tbody>\n",
       "</table>\n",
       "</div>"
      ],
      "text/plain": [
       "               price         sqfeet           beds          baths  \\\n",
       "count  367357.000000  367357.000000  367357.000000  367357.000000   \n",
       "mean     1163.884573     994.907586       1.903086       1.490109   \n",
       "std       490.588168     354.609974       0.853236       0.566402   \n",
       "min       300.000000     400.000000       0.000000       1.000000   \n",
       "25%       819.000000     754.000000       1.000000       1.000000   \n",
       "50%      1042.000000     950.000000       2.000000       1.000000   \n",
       "75%      1395.000000    1147.000000       2.000000       2.000000   \n",
       "max      3395.000000    4200.000000       8.000000       6.000000   \n",
       "\n",
       "        cats_allowed   dogs_allowed  smoking_allowed  wheelchair_access  \\\n",
       "count  367357.000000  367357.000000    367357.000000      367357.000000   \n",
       "mean        0.732369       0.712544         0.736548           0.079315   \n",
       "std         0.442725       0.452577         0.440506           0.270230   \n",
       "min         0.000000       0.000000         0.000000           0.000000   \n",
       "25%         0.000000       0.000000         0.000000           0.000000   \n",
       "50%         1.000000       1.000000         1.000000           0.000000   \n",
       "75%         1.000000       1.000000         1.000000           0.000000   \n",
       "max         1.000000       1.000000         1.000000           1.000000   \n",
       "\n",
       "       electric_vehicle_charge  comes_furnished            lat           long  \n",
       "count            367357.000000    367357.000000  367357.000000  367357.000000  \n",
       "mean                  0.012203         0.039311      37.245365     -92.470732  \n",
       "std                   0.109793         0.194333       5.538572      16.384773  \n",
       "min                   0.000000         0.000000     -40.266600    -163.894000  \n",
       "25%                   0.000000         0.000000      33.451000     -98.532200  \n",
       "50%                   0.000000         0.000000      37.666200     -87.581500  \n",
       "75%                   0.000000         0.000000      41.160200     -81.144400  \n",
       "max                   1.000000         1.000000     102.036000      94.156100  "
      ]
     },
     "metadata": {},
     "output_type": "display_data"
    }
   ],
   "source": [
    "# view the new descriptive statistics\n",
    "display(clean_df.describe())"
   ]
  },
  {
   "cell_type": "code",
   "execution_count": 31,
   "metadata": {},
   "outputs": [
    {
     "name": "stderr",
     "output_type": "stream",
     "text": [
      "/Users/matthew/opt/anaconda3/lib/python3.8/site-packages/pandas/core/indexing.py:1745: SettingWithCopyWarning: \n",
      "A value is trying to be set on a copy of a slice from a DataFrame.\n",
      "Try using .loc[row_indexer,col_indexer] = value instead\n",
      "\n",
      "See the caveats in the documentation: https://pandas.pydata.org/pandas-docs/stable/user_guide/indexing.html#returning-a-view-versus-a-copy\n",
      "  isetter(ilocs[0], value)\n"
     ]
    }
   ],
   "source": [
    "# make state values uppercase\n",
    "clean_df.loc[:,'state'] = [value.upper() for value in clean_df['state']]"
   ]
  },
  {
   "cell_type": "code",
   "execution_count": 32,
   "metadata": {},
   "outputs": [
    {
     "name": "stdout",
     "output_type": "stream",
     "text": [
      "205690    NM\n",
      "6288      CA\n",
      "288407    TX\n",
      "371806    CA\n",
      "293920    TX\n",
      "283488    TN\n",
      "284738    TX\n",
      "338219    WA\n",
      "142321    MA\n",
      "250369    PA\n",
      "Name: state, dtype: object\n"
     ]
    }
   ],
   "source": [
    "print(clean_df['state'].sample(10)) # verify results"
   ]
  },
  {
   "cell_type": "code",
   "execution_count": 33,
   "metadata": {},
   "outputs": [
    {
     "name": "stdout",
     "output_type": "stream",
     "text": [
      "region                     0\n",
      "price                      0\n",
      "type                       0\n",
      "sqfeet                     0\n",
      "beds                       0\n",
      "baths                      0\n",
      "cats_allowed               0\n",
      "dogs_allowed               0\n",
      "smoking_allowed            0\n",
      "wheelchair_access          0\n",
      "electric_vehicle_charge    0\n",
      "comes_furnished            0\n",
      "laundry_options            0\n",
      "parking_options            0\n",
      "lat                        0\n",
      "long                       0\n",
      "state                      0\n",
      "dtype: int64\n"
     ]
    }
   ],
   "source": [
    "# confirm there are no missing results\n",
    "print(clean_df.isna().sum())"
   ]
  },
  {
   "cell_type": "code",
   "execution_count": 34,
   "metadata": {},
   "outputs": [],
   "source": [
    "# break the data into 2 seperate files so they can be uploaded to Github\n",
    "partition_1 = clean_df.iloc[:round(clean_df.shape[0] * 0.5), :]\n",
    "partition_2 = clean_df.iloc[round(clean_df.shape[0] * 0.5):, :]"
   ]
  },
  {
   "cell_type": "code",
   "execution_count": 35,
   "metadata": {},
   "outputs": [],
   "source": [
    "# output the dataframe in CSV format\n",
    "partition_1.to_csv('../Datasets/clean_housing_1.csv')\n",
    "partition_2.to_csv('../Datasets/clean_housing_2.csv')"
   ]
  },
  {
   "cell_type": "code",
   "execution_count": null,
   "metadata": {},
   "outputs": [],
   "source": []
  }
 ],
 "metadata": {
  "kernelspec": {
   "display_name": "Python 3",
   "language": "python",
   "name": "python3"
  },
  "language_info": {
   "codemirror_mode": {
    "name": "ipython",
    "version": 3
   },
   "file_extension": ".py",
   "mimetype": "text/x-python",
   "name": "python",
   "nbconvert_exporter": "python",
   "pygments_lexer": "ipython3",
   "version": "3.8.5"
  }
 },
 "nbformat": 4,
 "nbformat_minor": 4
}
